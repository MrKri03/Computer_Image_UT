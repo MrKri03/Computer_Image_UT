{
  "cells": [
    {
      "cell_type": "markdown",
      "metadata": {
        "id": "view-in-github",
        "colab_type": "text"
      },
      "source": [
        "<a href=\"https://colab.research.google.com/github/MrKri03/Computer_Image_UT/blob/main/Assignment_02.ipynb\" target=\"_parent\"><img src=\"https://colab.research.google.com/assets/colab-badge.svg\" alt=\"Open In Colab\"/></a>"
      ]
    },
    {
      "cell_type": "markdown",
      "metadata": {
        "id": "AuW-xg_bTsaF"
      },
      "source": [
        "#  Using CNN's For Image classification using Cats vs Dogs Dataset\n",
        "\n",
        "Creating a Convolutional Neural Network in Tensorflow and leverage Keras' image preprocessing utilities.\n",
        "\n",
        "You will also create some helper functions to move the images around the filesystem so if you are not familiar with the `os` module be sure to take a look a the [docs](https://docs.python.org/3/library/os.html).\n"
      ],
      "id": "AuW-xg_bTsaF"
    },
    {
      "cell_type": "code",
      "execution_count": 45,
      "metadata": {
        "id": "dn-6c02VmqiN"
      },
      "outputs": [],
      "source": [
        "import os\n",
        "import zipfile #to open zip files\n",
        "import random\n",
        "import shutil\n",
        "from shutil import copyfile\n",
        "import tensorflow as tf\n",
        "import keras\n",
        "from tensorflow.keras.preprocessing.image import ImageDataGenerator\n",
        "import matplotlib.pyplot as plt"
      ],
      "id": "dn-6c02VmqiN"
    },
    {
      "cell_type": "code",
      "source": [
        "# Specific libraries\n",
        "import cv2\n",
        "from skimage.color import rgb2gray\n",
        "from skimage import color, data\n",
        "import matplotlib.pyplot as plt\n",
        "from scipy.ndimage import filters\n",
        "from skimage.filters import gaussian\n",
        "from PIL import Image"
      ],
      "metadata": {
        "id": "7gAoZ04BhIKk"
      },
      "id": "7gAoZ04BhIKk",
      "execution_count": 46,
      "outputs": []
    },
    {
      "cell_type": "markdown",
      "metadata": {
        "id": "bLTQd84RUs1j"
      },
      "source": [
        "Download the dataset from its original source by running the cell below. \n",
        "\n",
        "Note that the `zip` file that contains the images is unzipped under the `/tmp` directory."
      ],
      "id": "bLTQd84RUs1j"
    },
    {
      "cell_type": "code",
      "execution_count": 47,
      "metadata": {
        "colab": {
          "base_uri": "https://localhost:8080/"
        },
        "id": "3sd9dQWa23aj",
        "outputId": "bb088394-f117-4a7e-a0cd-e6f16007e849"
      },
      "outputs": [
        {
          "output_type": "stream",
          "name": "stdout",
          "text": [
            "--2023-03-13 10:23:22--  https://download.microsoft.com/download/3/E/1/3E1C3F21-ECDB-4869-8368-6DEBA77B919F/kagglecatsanddogs_5340.zip\n",
            "Resolving download.microsoft.com (download.microsoft.com)... 184.28.136.225, 2600:1408:9000:6ac::317f, 2600:1408:9000:68a::317f\n",
            "Connecting to download.microsoft.com (download.microsoft.com)|184.28.136.225|:443... connected.\n",
            "HTTP request sent, awaiting response... 200 OK\n",
            "Length: 824887076 (787M) [application/octet-stream]\n",
            "Saving to: ‘/tmp/cats-and-dogs.zip’\n",
            "\n",
            "/tmp/cats-and-dogs. 100%[===================>] 786.67M   118MB/s    in 6.8s    \n",
            "\n",
            "2023-03-13 10:23:29 (116 MB/s) - ‘/tmp/cats-and-dogs.zip’ saved [824887076/824887076]\n",
            "\n"
          ]
        }
      ],
      "source": [
        "# If the URL doesn't work, visit https://www.microsoft.com/en-us/download/confirmation.aspx?id=54765\n",
        "# And right click on the 'Download Manually' link to get a new URL to the dataset\n",
        "\n",
        "# Note: This is a very large dataset and will take some time to download\n",
        "\n",
        "!wget --no-check-certificate \\\n",
        "    \"https://download.microsoft.com/download/3/E/1/3E1C3F21-ECDB-4869-8368-6DEBA77B919F/kagglecatsanddogs_5340.zip\" \\\n",
        "    -O \"/tmp/cats-and-dogs.zip\"\n",
        "\n",
        "local_zip = '/tmp/cats-and-dogs.zip'\n",
        "zip_ref   = zipfile.ZipFile(local_zip, 'r')\n",
        "zip_ref.extractall('/tmp')\n",
        "zip_ref.close()"
      ],
      "id": "3sd9dQWa23aj"
    },
    {
      "cell_type": "code",
      "execution_count": 50,
      "metadata": {
        "colab": {
          "base_uri": "https://localhost:8080/"
        },
        "id": "Oa2fuI_wWSFY",
        "outputId": "41accf90-cc4c-40a3-8116-77622db93590"
      },
      "outputs": [
        {
          "output_type": "stream",
          "name": "stdout",
          "text": [
            "Cat  Dog\n"
          ]
        }
      ],
      "source": [
        "!ls /tmp/PetImages/"
      ],
      "id": "Oa2fuI_wWSFY"
    },
    {
      "cell_type": "markdown",
      "metadata": {
        "id": "e_HsUV9WVJHL"
      },
      "source": [
        "Now the images are stored within the `/tmp/PetImages` directory. There is a subdirectory for each class, so one for dogs and one for cats."
      ],
      "id": "e_HsUV9WVJHL"
    },
    {
      "cell_type": "code",
      "execution_count": 51,
      "metadata": {
        "colab": {
          "base_uri": "https://localhost:8080/"
        },
        "id": "DM851ZmN28J3",
        "outputId": "4a845858-529e-4654-f108-aa8de571e061"
      },
      "outputs": [
        {
          "output_type": "stream",
          "name": "stdout",
          "text": [
            "There are 12500 images of dogs.\n",
            "There are 12500 images of cats.\n"
          ]
        }
      ],
      "source": [
        "# Deletes all non-image files (there are two .db files bundled into the dataset)\n",
        "!find /tmp/PetImages/ -type f ! -name \"*.jpg\" -exec rm {} +\n",
        "\n",
        "# os.listdir returns a list containing all files under the given path\n",
        "print(f\"There are {len(os.listdir('/tmp/PetImages/Dog'))} images of dogs.\")\n",
        "print(f\"There are {len(os.listdir('/tmp/PetImages/Cat'))} images of cats.\")"
      ],
      "id": "DM851ZmN28J3"
    },
    {
      "cell_type": "markdown",
      "metadata": {
        "id": "iFbMliudNIjW"
      },
      "source": [
        "You will need a directory for cats-v-dogs, and subdirectories for training\n",
        "and validation. These in turn will need subdirectories for 'cats' and 'dogs'. To accomplish this, complete the `create_train_val_dirs` below:"
      ],
      "id": "iFbMliudNIjW"
    },
    {
      "cell_type": "code",
      "source": [
        "# Function to create directories:\n",
        "def create_directory(root_dir):\n",
        "  # Empty directory to prevent FileExistsError is the function is run several times\n",
        "  if not os.path.exists(root_dir):\n",
        "    os.makedirs(root_dir, exist_ok = True)\n",
        "    "
      ],
      "metadata": {
        "id": "PZDuA26Rm4mq"
      },
      "id": "PZDuA26Rm4mq",
      "execution_count": 52,
      "outputs": []
    },
    {
      "cell_type": "markdown",
      "source": [
        "The following paths will have the train-validation"
      ],
      "metadata": {
        "id": "xiKjRaN5vVF8"
      },
      "id": "xiKjRaN5vVF8"
    },
    {
      "cell_type": "code",
      "source": [
        "# Directory of modified images (images with transformations applied):\n",
        "\n",
        "root_modified= '/tmp/PetImages_modified'\n"
      ],
      "metadata": {
        "id": "yULTkv53ju7U"
      },
      "id": "yULTkv53ju7U",
      "execution_count": 58,
      "outputs": []
    },
    {
      "cell_type": "code",
      "source": [
        "# Create directories with folders for each animal \n",
        "\n",
        "create_directory(os.path.join(root_modified,\"Cat\"))\n",
        "create_directory(os.path.join(root_modified,\"Dog\"))"
      ],
      "metadata": {
        "id": "bi5Iyc-umaBY"
      },
      "id": "bi5Iyc-umaBY",
      "execution_count": 59,
      "outputs": []
    },
    {
      "cell_type": "code",
      "execution_count": 60,
      "metadata": {
        "cellView": "code",
        "id": "F-QkLjxpmyK2"
      },
      "outputs": [],
      "source": [
        "## Here are the functions to apply the filters: \n",
        "\n",
        "#\n",
        "def read_image(input_image,name_image,folder):\n",
        "  \"\"\"\n",
        "  function to read the image \n",
        "\n",
        "  Args:\n",
        "    input_image (string) - the path where the image is stored\n",
        "  Returns:\n",
        "    read_image: This is a cv2 image\n",
        "    None value: if reading the image is not successful\n",
        "  \"\"\"\n",
        "  try:\n",
        "    read_image = cv2.imread(input_image)\n",
        "    return read_image\n",
        "  except:\n",
        "    print(f'The image {name_image} in folder {folder} cannot be read')\n",
        "    return None\n",
        "\n",
        "\n",
        "#\n",
        "def sobel_filter(input_image, output_dir, name_image):\n",
        "  \"\"\"\n",
        "  Creates a sobel filter on the images and stores the result in the folder\n",
        "  Args:\n",
        "    input_image - cv2 image\n",
        "    output_dir (string) - the output directory where the image is going to be stored\n",
        "    name_image (string) - the name of the image and format of output\n",
        "  Returns:\n",
        "    None\n",
        "  \"\"\"\n",
        "  image_to_sobel = filters.sobel(input_image)\n",
        "  plt.imsave(os.path.join(output_dir,name_image.split(\".\")[0]+\"_sob.jpg\"),image_to_sobel)\n",
        "\n",
        "#\n",
        "def gauss_filter(input_image, output_dir, name_image):\n",
        "  from skimage.filters import gaussian\n",
        "  \n",
        "  \"\"\"\n",
        "  Creates a gauss filter on the images and stores the result in the folder\n",
        "  Args:\n",
        "    input_image - cv2 image\n",
        "    output_dir (string) - the output directory where the image is going to be stored\n",
        "    name_image (string) - the name of the image and format of output\n",
        "  Returns:\n",
        "    void\n",
        "  \"\"\"\n",
        "  image_to_gauss = gaussian(input_image, channel_axis=3)\n",
        "  plt.imsave(os.path.join(output_dir,name_image.split(\".\")[0] +\"_gss.jpg\"),image_to_gauss)\n",
        "\n",
        "#\n",
        "def black_white(input_image, output_dir,name_image):\n",
        "  \"\"\"\n",
        "  Creates a black and white image and stores the result in the folder\n",
        "  Args:\n",
        "    input_image - cv2 image\n",
        "    output_dir (string) - the output directory where the image is going to be stored\n",
        "    name_image (string) - the name of the image and format of output\n",
        "  Returns:\n",
        "    void\n",
        "  \"\"\"\n",
        "  image_to_bw = color.rgb2gray(input_image)\n",
        "  plt.imsave(os.path.join(output_dir,name_image.split(\".\")[0]+\"_BW.jpg\"),image_to_bw)\n",
        "\n",
        "def upscale(input_image, output_dir,name_image):\n",
        "  \"\"\"\n",
        "  Applies a transformation to upscale the image\n",
        "  Args:\n",
        "    input_image - cv2 image\n",
        "    output_dir (string) - the output directory where the image is going to be stored\n",
        "    name_image (string) - the name of the image and format of output\n",
        "  Returns:\n",
        "    void\n",
        "  \"\"\"\n",
        "  # We use a constant factor to upscale the image. Interpolation: INTER_CUBIC\n",
        "\n",
        "  factor = 2\n",
        "  \n",
        "  upscaled_img = cv2.resize(input_image, None, fx=factor, fy=factor, interpolation=cv2.INTER_CUBIC)\n",
        "\n",
        "  cv2.imwrite(os.path.join(output_dir,name_image.split(\".\")[0]+\"_up.jpg\"),upscaled_img)\n",
        "\n",
        "\n",
        "def downscale(input_image, output_dir,name_image):\n",
        "  \"\"\"\n",
        "  Applies a transformation to upscale the image\n",
        "  Args:\n",
        "    input_image  - cv2 image\n",
        "    output_dir (string) - the output directory where the image is going to be stored\n",
        "    name_image (string) - the name of the image and format of output\n",
        "  Returns:\n",
        "    void\n",
        "  \"\"\"\n",
        "  # We use a constant factor to downscale the image. Interpolation: INTER_CUBIC\n",
        "\n",
        "  factor = 2\n",
        "  \n",
        "  Dscaled_img = cv2.resize(input_image, None,  fx=1/factor, fy=1/factor, interpolation=cv2.INTER_CUBIC)\n",
        "\n",
        "  cv2.imwrite(os.path.join(output_dir,name_image.split(\".\")[0]+\"_down.jpg\"),Dscaled_img)\n",
        "\n",
        "\n",
        "#Define a function to apply the type of processing to images\n",
        "def apply_processing(transformation, input_image, output_directory, name_file):\n",
        "  \"\"\"\n",
        "  Executes one of the image transformation functions, according to the name_filter argument\n",
        "  Args:\n",
        "    transformation (string) - the name of the transformation to use. Only 5 posssible options: black_white, gaussian, sobel, up, down\n",
        "    input_image  - cv2 image\n",
        "    output_directory (string) - the path to store the result image\n",
        "    name_file (string) - the name of the input file with extension\n",
        "  Returns:\n",
        "    void\n",
        "  \"\"\"\n",
        "\n",
        "\n",
        "\n",
        "  if transformation == \"black_white\":\n",
        "    black_white(input_image, output_directory, name_file)\n",
        "\n",
        "  elif transformation == \"gaussian\":\n",
        "    gauss_filter(input_image, output_directory, name_file)\n",
        "\n",
        "  elif transformation == \"sobel\":\n",
        "    sobel_filter(input_image, output_directory, name_file)\n",
        "\n",
        "  elif transformation == \"up\":\n",
        "    upscale(input_image, output_directory, name_file)\n",
        "\n",
        "  elif transformation == \"down\":\n",
        "    downscale(input_image, output_directory, name_file)\n",
        "\n",
        "  else:\n",
        "    print(\"please specify the name of the filter you want to apply to the image\")\n",
        "    pass\n",
        "\n"
      ],
      "id": "F-QkLjxpmyK2"
    },
    {
      "cell_type": "code",
      "source": [
        "animals = [\"Cat\",\"Dog\"]\n",
        "# the images from the original folder to be passed to the function apply_processing(). Repeats for Cat and Dog\n",
        "\n",
        "transformation = \"down\" # Which transformation to use"
      ],
      "metadata": {
        "id": "RJoSsJtMAWP5"
      },
      "id": "RJoSsJtMAWP5",
      "execution_count": 61,
      "outputs": []
    },
    {
      "cell_type": "code",
      "source": [
        "# Carry out the whole process\n",
        "\n",
        "# Loop through Cat and Dog folder\n",
        "for animal in animals:\n",
        "  \n",
        "  print(\"Folder:\",animal)\n",
        "  original_images = os.path.join('/tmp/PetImages',animal)\n",
        "\n",
        "  for file_name in os.listdir(original_images):\n",
        "    \n",
        "    #This function has one try - except block\n",
        "    image = read_image(os.path.join(original_images,file_name),\n",
        "                         file_name,animal)\n",
        "    \n",
        "    try:\n",
        "      #try to apply the filter.\n",
        "      apply_processing(transformation,image,\n",
        "                       os.path.join(root_modified,animal),\n",
        "                       file_name)\n",
        "                        \n",
        "    except Exception as e:\n",
        "      # go to the next image and see what image has failed.\n",
        "      print(f'The transformation {transformation} for image {file_name} could not be done') # If the JPG does not have the correct configuration. Prints out the name of the image\n",
        "      continue"
      ],
      "metadata": {
        "colab": {
          "base_uri": "https://localhost:8080/"
        },
        "id": "XgVrtkPxBdzX",
        "outputId": "40d05c9a-6054-464d-b96f-b86b54aac846"
      },
      "id": "XgVrtkPxBdzX",
      "execution_count": 62,
      "outputs": [
        {
          "output_type": "stream",
          "name": "stdout",
          "text": [
            "Folder: Cat\n",
            "The transformation down for image 3491.jpg could not be done\n",
            "The transformation down for image 2663.jpg could not be done\n",
            "The transformation down for image 850.jpg could not be done\n",
            "The transformation down for image 10501.jpg could not be done\n",
            "The transformation down for image 4833.jpg could not be done\n",
            "The transformation down for image 11874.jpg could not be done\n",
            "The transformation down for image 7968.jpg could not be done\n",
            "The transformation down for image 666.jpg could not be done\n",
            "The transformation down for image 10820.jpg could not be done\n",
            "The transformation down for image 9171.jpg could not be done\n",
            "The transformation down for image 8470.jpg could not be done\n",
            "The transformation down for image 9565.jpg could not be done\n",
            "The transformation down for image 9778.jpg could not be done\n",
            "The transformation down for image 660.jpg could not be done\n",
            "The transformation down for image 11210.jpg could not be done\n",
            "The transformation down for image 10404.jpg could not be done\n",
            "The transformation down for image 936.jpg could not be done\n",
            "The transformation down for image 10125.jpg could not be done\n",
            "The transformation down for image 5553.jpg could not be done\n",
            "The transformation down for image 140.jpg could not be done\n",
            "The transformation down for image 3300.jpg could not be done\n",
            "The transformation down for image 11935.jpg could not be done\n",
            "The transformation down for image 11565.jpg could not be done\n",
            "The transformation down for image 7978.jpg could not be done\n",
            "Folder: Dog\n",
            "The transformation down for image 5736.jpg could not be done\n",
            "The transformation down for image 1866.jpg could not be done\n",
            "The transformation down for image 7459.jpg could not be done\n",
            "The transformation down for image 11702.jpg could not be done\n",
            "The transformation down for image 3588.jpg could not be done\n",
            "The transformation down for image 2688.jpg could not be done\n",
            "The transformation down for image 6718.jpg could not be done\n",
            "The transformation down for image 11675.jpg could not be done\n",
            "The transformation down for image 3136.jpg could not be done\n",
            "The transformation down for image 6238.jpg could not be done\n",
            "The transformation down for image 2877.jpg could not be done\n",
            "The transformation down for image 7369.jpg could not be done\n",
            "The transformation down for image 11853.jpg could not be done\n",
            "The transformation down for image 11410.jpg could not be done\n",
            "The transformation down for image 8730.jpg could not be done\n",
            "The transformation down for image 2384.jpg could not be done\n",
            "The transformation down for image 6059.jpg could not be done\n",
            "The transformation down for image 10797.jpg could not be done\n",
            "The transformation down for image 10158.jpg could not be done\n",
            "The transformation down for image 10401.jpg could not be done\n",
            "The transformation down for image 7133.jpg could not be done\n",
            "The transformation down for image 3288.jpg could not be done\n",
            "The transformation down for image 1308.jpg could not be done\n",
            "The transformation down for image 10747.jpg could not be done\n",
            "The transformation down for image 4367.jpg could not be done\n",
            "The transformation down for image 5604.jpg could not be done\n",
            "The transformation down for image 7112.jpg could not be done\n",
            "The transformation down for image 7969.jpg could not be done\n",
            "The transformation down for image 9188.jpg could not be done\n",
            "The transformation down for image 11849.jpg could not be done\n"
          ]
        }
      ]
    },
    {
      "cell_type": "code",
      "source": [],
      "metadata": {
        "id": "xpG6tDH469-p"
      },
      "id": "xpG6tDH469-p",
      "execution_count": null,
      "outputs": []
    },
    {
      "cell_type": "code",
      "source": [
        "## Check that all the images are in the new folders :\n",
        "print(len(os.listdir(\"/tmp/PetImages_modified/Cat\")))\n",
        "print(len(os.listdir(\"/tmp/PetImages_modified/Dog\")))"
      ],
      "metadata": {
        "id": "p83sUH323A3q",
        "colab": {
          "base_uri": "https://localhost:8080/"
        },
        "outputId": "baf86bc8-f7c4-44c8-a0ae-3b07d22d0141"
      },
      "id": "p83sUH323A3q",
      "execution_count": 65,
      "outputs": [
        {
          "output_type": "stream",
          "name": "stdout",
          "text": [
            "12476\n",
            "12470\n"
          ]
        }
      ]
    },
    {
      "cell_type": "code",
      "source": [
        "# General path to store all the images for analysis with the Network\n",
        "dir_analysis = \"/tmp/cats-v-dogs\""
      ],
      "metadata": {
        "id": "WIDlIo7huQ_n"
      },
      "id": "WIDlIo7huQ_n",
      "execution_count": 66,
      "outputs": []
    },
    {
      "cell_type": "code",
      "source": [
        "\n",
        "# GRADED FUNCTION: create_train_val_dirs\n",
        "def create_train_val_dirs(path_to_images):\n",
        "  \"\"\"\n",
        "  Creates directories for the train and test sets\n",
        "  Args:\n",
        "    root_path (string) - the base directory path to create subdirectories from\n",
        "  Returns:\n",
        "    None\n",
        "  \"\"\"\n",
        "  try:\n",
        "    os.makedirs(path_to_images, exist_ok=True)\n",
        "    os.makedirs(os.path.join(path_to_images,\"training\"), exist_ok=True)\n",
        "    os.makedirs(os.path.join(path_to_images,\"validation\"), exist_ok=True)\n",
        "    os.makedirs(os.path.join(path_to_images,\"training\",\"cats\"), exist_ok=True)\n",
        "    os.makedirs(os.path.join(path_to_images,\"training\",\"dogs\"), exist_ok=True)\n",
        "    os.makedirs(os.path.join(path_to_images,\"validation\",\"cats\"), exist_ok=True)\n",
        "    os.makedirs(os.path.join(path_to_images,\"validation\",\"dogs\"), exist_ok=True)\n",
        "  except OSError:\n",
        "  # HINT:\n",
        "  # Use os.makedirs to create your directories with intermediate subdirectories\n",
        "  # Don't hardcode the paths. Use os.path.join to append the new directories to the root_path parameter\n",
        "    pass\n",
        "  \n",
        "try:\n",
        "  create_train_val_dirs(dir_analysis)\n",
        "except FileExistsError:\n",
        "  print(\"You should not be seeing this since the upper directory is removed beforehand\")"
      ],
      "metadata": {
        "id": "ooAnE0hLA4bb"
      },
      "id": "ooAnE0hLA4bb",
      "execution_count": 67,
      "outputs": []
    },
    {
      "cell_type": "code",
      "execution_count": 68,
      "metadata": {
        "colab": {
          "base_uri": "https://localhost:8080/"
        },
        "id": "C9OY_sbF3pMe",
        "outputId": "130c70f0-7aa3-4265-b59a-c48d9d77af68"
      },
      "outputs": [
        {
          "output_type": "stream",
          "name": "stdout",
          "text": [
            "Mounted at /content/drive\n"
          ]
        }
      ],
      "source": [
        "from google.colab import drive\n",
        "drive.mount('/content/drive',force_remount=True)"
      ],
      "id": "C9OY_sbF3pMe"
    },
    {
      "cell_type": "code",
      "execution_count": 69,
      "metadata": {
        "colab": {
          "base_uri": "https://localhost:8080/"
        },
        "id": "5dhtL344OK00",
        "outputId": "7bc19b58-45c7-4326-ed9d-70bbce43d1da"
      },
      "outputs": [
        {
          "output_type": "stream",
          "name": "stdout",
          "text": [
            "/tmp/cats-v-dogs/training\n",
            "/tmp/cats-v-dogs/validation\n",
            "/tmp/cats-v-dogs/training/dogs\n",
            "/tmp/cats-v-dogs/training/cats\n",
            "/tmp/cats-v-dogs/validation/dogs\n",
            "/tmp/cats-v-dogs/validation/cats\n"
          ]
        }
      ],
      "source": [
        "# Test your create_train_val_dirs function\n",
        "for rootdir, dirs, files in os.walk(dir_analysis):\n",
        "    for subdir in dirs:\n",
        "        print(os.path.join(rootdir, subdir))"
      ],
      "id": "5dhtL344OK00"
    },
    {
      "cell_type": "markdown",
      "metadata": {
        "id": "R93T7HdE5txZ"
      },
      "source": [
        "Code the `split_data` function which takes in the following arguments:\n",
        "- SOURCE_DIR: directory containing the files\n",
        "\n",
        "- TRAINING_DIR: directory that a portion of the files will be copied to (will be used for training)\n",
        "- VALIDATION_DIR: directory that a portion of the files will be copied to (will be used for validation)\n",
        "- SPLIT_SIZE: determines the portion of images used for training.\n",
        "\n",
        "The files should be randomized, so that the training set is a random sample of the files, and the validation set is made up of the remaining files.\n",
        "\n",
        "For example, if `SOURCE_DIR` is `PetImages/Cat`, and `SPLIT_SIZE` is .9 then 90% of the images in `PetImages/Cat` will be copied to the `TRAINING_DIR` directory\n",
        "and 10% of the images will be copied to the `VALIDATION_DIR` directory.\n",
        "\n",
        "All images should be checked before the copy, so if they have a zero file length, they will be omitted from the copying process. If this is the case then your function should print out a message such as `\"filename is zero length, so ignoring.\"`. **You should perform this check before the split so that only non-zero images are considered when doing the actual split.**\n",
        "\n",
        "\n",
        "Hints:\n",
        "\n",
        "- `os.listdir(DIRECTORY)` returns a list with the contents of that directory.\n",
        "\n",
        "- `os.path.getsize(PATH)` returns the size of the file\n",
        "\n",
        "- `copyfile(source, destination)` copies a file from source to destination\n",
        "\n",
        "- `random.sample(list, len(list))` shuffles a list"
      ],
      "id": "R93T7HdE5txZ"
    },
    {
      "cell_type": "code",
      "execution_count": 70,
      "metadata": {
        "cellView": "code",
        "id": "zvSODo0f9LaU"
      },
      "outputs": [],
      "source": [
        "def split_data(SOURCE_DIR, TRAINING_DIR, VALIDATION_DIR, SPLIT_SIZE):\n",
        "  \"\"\"\n",
        "  Splits the data into train and test sets\n",
        "  \n",
        "  Args:\n",
        "    SOURCE_DIR (string): directory path containing the images\n",
        "    TRAINING_DIR (string): directory path to be used for training\n",
        "    VALIDATION_DIR (string): directory path to be used for validation\n",
        "    SPLIT_SIZE (float): proportion of the dataset to be used for training\n",
        "    \n",
        "  Returns:\n",
        "    None\n",
        "  \"\"\"\n",
        "\n",
        "  files = []\n",
        "  #Discard the zero length images.\n",
        "  for filename in os.listdir(SOURCE_DIR):\n",
        "        file_name = os.path.join(SOURCE_DIR, filename)\n",
        "        if os.path.getsize(file_name) > 0:\n",
        "            files.append(filename)\n",
        "        else:\n",
        "            print(\"{} has zero length so discarding\".format(filename))\n",
        "\n",
        "  train_set_size = int(len(files)*SPLIT_SIZE)\n",
        "  shuffled_data = random.sample(files, len(files))  #Randomly shuffle the data\n",
        "  training_data = shuffled_data[0:train_set_size]\n",
        "  validation_data = shuffled_data[train_set_size:len(files)]\n",
        "\n",
        "  for file in training_data:\n",
        "     src_file = os.path.join(SOURCE_DIR, file)\n",
        "     des_file = os.path.join(TRAINING_DIR, file)\n",
        "     copyfile(src_file, des_file)\n",
        "  \n",
        "  for file in validation_data:\n",
        "      src_file = os.path.join(SOURCE_DIR, file)\n",
        "      des_file = os.path.join(VALIDATION_DIR, file)\n",
        "      copyfile(src_file, des_file)      \n",
        "  pass"
      ],
      "id": "zvSODo0f9LaU"
    },
    {
      "cell_type": "code",
      "execution_count": 71,
      "metadata": {
        "colab": {
          "base_uri": "https://localhost:8080/"
        },
        "id": "FlIdoUeX9S-9",
        "outputId": "59fc2c74-4005-4c91-c992-eb2766a16e6b"
      },
      "outputs": [
        {
          "output_type": "stream",
          "name": "stdout",
          "text": [
            "\n",
            "\n",
            "Original cat's directory has 12476 images\n",
            "Original dog's directory has 12470 images\n",
            "\n",
            "There are 11228 images of cats for training\n",
            "There are 11223 images of dogs for training\n",
            "There are 1248 images of cats for validation\n",
            "There are 1247 images of dogs for validation\n"
          ]
        }
      ],
      "source": [
        "# Test your split_data function\n",
        "\n",
        "# Define paths\n",
        "CAT_SOURCE_DIR = \"/tmp/PetImages_modified/Cat\" # Modified images\n",
        "DOG_SOURCE_DIR = \"/tmp/PetImages_modified/Dog\" # Modified images\n",
        "\n",
        "TRAINING_DIR = \"/tmp/cats-v-dogs/training/\"\n",
        "VALIDATION_DIR = \"/tmp/cats-v-dogs/validation/\"\n",
        "\n",
        "TRAINING_CATS_DIR = os.path.join(TRAINING_DIR, \"cats/\")\n",
        "VALIDATION_CATS_DIR = os.path.join(VALIDATION_DIR, \"cats/\")\n",
        "\n",
        "TRAINING_DOGS_DIR = os.path.join(TRAINING_DIR, \"dogs/\")\n",
        "VALIDATION_DOGS_DIR = os.path.join(VALIDATION_DIR, \"dogs/\")\n",
        "\n",
        "# Define proportion of images used for training\n",
        "split_size = .9\n",
        "\n",
        "# Run the function\n",
        "# NOTE: Messages about zero length images should be printed out\n",
        "split_data(CAT_SOURCE_DIR, TRAINING_CATS_DIR, VALIDATION_CATS_DIR, split_size)\n",
        "split_data(DOG_SOURCE_DIR, TRAINING_DOGS_DIR, VALIDATION_DOGS_DIR, split_size)\n",
        "\n",
        "# Your function should perform copies rather than moving images so original directories should contain unchanged images\n",
        "print(f\"\\n\\nOriginal cat's directory has {len(os.listdir(CAT_SOURCE_DIR))} images\")\n",
        "print(f\"Original dog's directory has {len(os.listdir(DOG_SOURCE_DIR))} images\\n\")\n",
        "\n",
        "# Training and validation splits\n",
        "print(f\"There are {len(os.listdir(TRAINING_CATS_DIR))} images of cats for training\")\n",
        "print(f\"There are {len(os.listdir(TRAINING_DOGS_DIR))} images of dogs for training\")\n",
        "print(f\"There are {len(os.listdir(VALIDATION_CATS_DIR))} images of cats for validation\")\n",
        "print(f\"There are {len(os.listdir(VALIDATION_DOGS_DIR))} images of dogs for validation\")"
      ],
      "id": "FlIdoUeX9S-9"
    },
    {
      "cell_type": "markdown",
      "metadata": {
        "id": "Zil4QmOD_mXF"
      },
      "source": [
        "Now that you have successfully organized the data in a way that can be easily fed to Keras' `ImageDataGenerator`, it is time for you to code the generators that will yield batches of images, both for training and validation. For this, complete the `train_val_generators` function below.\n",
        "\n",
        "Something important to note is that the images in this dataset come in a variety of resolutions. Luckily, the `flow_from_directory` method allows you to standarize this by defining a tuple called `target_size` that will be used to convert each image to this target resolution. **Use a `target_size` of (150, 150)**.\n",
        "\n",
        "**Hint:** \n",
        "\n",
        "Don't use data augmentation by setting extra parameters when you instantiate the `ImageDataGenerator` class. This will make the training of your model to take longer to reach the necessary accuracy threshold to pass this assignment and this topic will be covered in the next week."
      ],
      "id": "Zil4QmOD_mXF"
    },
    {
      "cell_type": "code",
      "execution_count": 72,
      "metadata": {
        "cellView": "code",
        "id": "fQrZfVgz4j2g"
      },
      "outputs": [],
      "source": [
        "# GRADED FUNCTION: train_val_generators\n",
        "def train_val_generators(TRAINING_DIR, VALIDATION_DIR):\n",
        "  \"\"\"\n",
        "  Creates the training and validation data generators\n",
        "  \n",
        "  Args:\n",
        "    TRAINING_DIR (string): directory path containing the training images\n",
        "    VALIDATION_DIR (string): directory path containing the testing/validation images\n",
        "    \n",
        "  Returns:\n",
        "    train_generator, validation_generator - tuple containing the generators\n",
        "  \"\"\"\n",
        "\n",
        "  # Instantiate the ImageDataGenerator class with rescale argument.\n",
        "  # rescale is a value by which we will multiply the data before any other processing. \n",
        "  # Our original images consist in RGB coefficients in the 0-255,\n",
        "  # but such values would be too high for our models to process (given a typical learning rate), \n",
        "  # so we target values between 0 and 1 instead by scaling with a 1/255. factor.\n",
        "\n",
        "  train_datagen = ImageDataGenerator(rescale=1/255)\n",
        "\n",
        "  # Pass in the appropiate arguments to the flow_from_directory method, set target size to 150,150 as \n",
        "  # The dimensions to which all images found will be resized.\n",
        "  train_generator = train_datagen.flow_from_directory(directory=TRAINING_DIR,\n",
        "                                                      batch_size=50,\n",
        "                                                      class_mode='binary',\n",
        "                                                      target_size=(150, 150))\n",
        "\n",
        "  # Instantiate the ImageDataGenerator class with rescale argument to resize the image to 255)\n",
        "  validation_datagen = ImageDataGenerator(rescale = 1/255)\n",
        "\n",
        "  # Pass in the appropiate arguments to the flow_from_directory method\n",
        "  validation_generator = validation_datagen.flow_from_directory(directory=VALIDATION_DIR,\n",
        "                                                                batch_size=50,\n",
        "                                                                class_mode='binary',\n",
        "                                                                target_size=(150, 150))\n",
        "  return train_generator, validation_generator\n"
      ],
      "id": "fQrZfVgz4j2g"
    },
    {
      "cell_type": "code",
      "execution_count": 73,
      "metadata": {
        "colab": {
          "base_uri": "https://localhost:8080/"
        },
        "id": "qM7FxrjGiobD",
        "outputId": "9d55aee2-b65b-4dde-9f5e-dc71aa078f95"
      },
      "outputs": [
        {
          "output_type": "stream",
          "name": "stdout",
          "text": [
            "Found 22451 images belonging to 2 classes.\n",
            "Found 2495 images belonging to 2 classes.\n"
          ]
        }
      ],
      "source": [
        "# Test your generators\n",
        "train_generator, validation_generator = train_val_generators(TRAINING_DIR, VALIDATION_DIR)"
      ],
      "id": "qM7FxrjGiobD"
    },
    {
      "cell_type": "markdown",
      "metadata": {
        "id": "TI3oEmyQCZoO"
      },
      "source": [
        "One last step before training is to define the architecture of the model that will be trained.\n",
        "\n",
        "Complete the `create_model` function below which should return a Keras' `Sequential` model.\n",
        "\n",
        "we should also compile it to make sure to use a `loss` function that is compatible with the `class_mode` we defined, which should also be compatible with the output of the network. \n",
        "\n",
        "**Note that we should use at least 3 convolution layers to achieve the desired performance.**\n",
        "\n",
        "Also Note that because we are facing a two-class classification problem, i.e. a binary classification problem, we will end the network with a sigmoid activation fucntion. The output of the network will be a single scalar between 0 and 1, encoding the probability that the current image is class 1 (as opposed to class 0)."
      ],
      "id": "TI3oEmyQCZoO"
    },
    {
      "cell_type": "code",
      "execution_count": null,
      "metadata": {
        "id": "ahg-r713dDQ7"
      },
      "outputs": [],
      "source": [
        "################################ Convert the Images to Gray Scale ##############################\n",
        "################  You can use use color.rgb2gray ######################################\n"
      ],
      "id": "ahg-r713dDQ7"
    },
    {
      "cell_type": "code",
      "execution_count": 74,
      "metadata": {
        "cellView": "code",
        "id": "oDPK8tUB_O9e"
      },
      "outputs": [],
      "source": [
        "def create_model():\n",
        "  model = tf.keras.models.Sequential([ \n",
        "      tf.keras.layers.Conv2D(16, (3,3), activation='relu', input_shape=(150, 150, 3)),\n",
        "      tf.keras.layers.MaxPooling2D(2,2),\n",
        "      tf.keras.layers.Conv2D(32, (3,3), activation= 'relu'),\n",
        "      tf.keras.layers.MaxPooling2D(2,2),\n",
        "      tf.keras.layers.Conv2D(64, (3,3), activation= 'relu'),\n",
        "      tf.keras.layers.MaxPooling2D(2,2),\n",
        "      tf.keras.layers.Conv2D(128, (3,3), activation= 'relu'),\n",
        "      tf.keras.layers.MaxPooling2D(2,2),\n",
        "      tf.keras.layers.Flatten(),\n",
        "      tf.keras.layers.Dense(512, activation = 'relu'),\n",
        "      tf.keras.layers.Dense(128, activation='relu'),\n",
        "      tf.keras.layers.Dense(1, activation = 'sigmoid')\n",
        "  ])\n",
        "  \n",
        "  model.compile(optimizer=tf.keras.optimizers.RMSprop(lr=0.001), \n",
        "                loss='binary_crossentropy',\n",
        "                metrics=['accuracy']) \n",
        "  return model\n"
      ],
      "id": "oDPK8tUB_O9e"
    },
    {
      "cell_type": "markdown",
      "metadata": {
        "id": "SMFNJZmTCZv6"
      },
      "source": [
        "Now it is time to train your model!\n",
        "\n",
        "**Note:** You can ignore the `UserWarning: Possibly corrupt EXIF data.` warnings."
      ],
      "id": "SMFNJZmTCZv6"
    },
    {
      "cell_type": "code",
      "execution_count": 75,
      "metadata": {
        "colab": {
          "base_uri": "https://localhost:8080/"
        },
        "id": "4X0uV0m1T6Bg",
        "outputId": "40fdb403-1467-4c45-a2f0-d1d6fa4c4b87"
      },
      "outputs": [
        {
          "output_type": "stream",
          "name": "stderr",
          "text": [
            "WARNING:absl:`lr` is deprecated, please use `learning_rate` instead, or use the legacy optimizer, e.g.,tf.keras.optimizers.legacy.RMSprop.\n"
          ]
        },
        {
          "output_type": "stream",
          "name": "stdout",
          "text": [
            "Model: \"sequential_2\"\n",
            "_________________________________________________________________\n",
            " Layer (type)                Output Shape              Param #   \n",
            "=================================================================\n",
            " conv2d_8 (Conv2D)           (None, 148, 148, 16)      448       \n",
            "                                                                 \n",
            " max_pooling2d_8 (MaxPooling  (None, 74, 74, 16)       0         \n",
            " 2D)                                                             \n",
            "                                                                 \n",
            " conv2d_9 (Conv2D)           (None, 72, 72, 32)        4640      \n",
            "                                                                 \n",
            " max_pooling2d_9 (MaxPooling  (None, 36, 36, 32)       0         \n",
            " 2D)                                                             \n",
            "                                                                 \n",
            " conv2d_10 (Conv2D)          (None, 34, 34, 64)        18496     \n",
            "                                                                 \n",
            " max_pooling2d_10 (MaxPoolin  (None, 17, 17, 64)       0         \n",
            " g2D)                                                            \n",
            "                                                                 \n",
            " conv2d_11 (Conv2D)          (None, 15, 15, 128)       73856     \n",
            "                                                                 \n",
            " max_pooling2d_11 (MaxPoolin  (None, 7, 7, 128)        0         \n",
            " g2D)                                                            \n",
            "                                                                 \n",
            " flatten_2 (Flatten)         (None, 6272)              0         \n",
            "                                                                 \n",
            " dense_6 (Dense)             (None, 512)               3211776   \n",
            "                                                                 \n",
            " dense_7 (Dense)             (None, 128)               65664     \n",
            "                                                                 \n",
            " dense_8 (Dense)             (None, 1)                 129       \n",
            "                                                                 \n",
            "=================================================================\n",
            "Total params: 3,375,009\n",
            "Trainable params: 3,375,009\n",
            "Non-trainable params: 0\n",
            "_________________________________________________________________\n",
            "None\n"
          ]
        }
      ],
      "source": [
        "print(create_model().summary())"
      ],
      "id": "4X0uV0m1T6Bg"
    },
    {
      "cell_type": "code",
      "source": [
        "NUMBER_EPOCHS = 3 # takes time to finish the model training"
      ],
      "metadata": {
        "id": "U7vzB2ACIJqP"
      },
      "id": "U7vzB2ACIJqP",
      "execution_count": 76,
      "outputs": []
    },
    {
      "cell_type": "code",
      "execution_count": 77,
      "metadata": {
        "colab": {
          "base_uri": "https://localhost:8080/"
        },
        "id": "5qE1G6JB4fMn",
        "outputId": "a1caae27-8025-4091-d774-a57bd404dead"
      },
      "outputs": [
        {
          "output_type": "stream",
          "name": "stderr",
          "text": [
            "WARNING:absl:`lr` is deprecated, please use `learning_rate` instead, or use the legacy optimizer, e.g.,tf.keras.optimizers.legacy.RMSprop.\n"
          ]
        },
        {
          "output_type": "stream",
          "name": "stdout",
          "text": [
            "Epoch 1/3\n",
            "450/450 [==============================] - 748s 2s/step - loss: 0.6284 - accuracy: 0.6330 - val_loss: 0.5738 - val_accuracy: 0.6910\n",
            "Epoch 2/3\n",
            "450/450 [==============================] - 726s 2s/step - loss: 0.4868 - accuracy: 0.7640 - val_loss: 0.4186 - val_accuracy: 0.8008\n",
            "Epoch 3/3\n",
            "450/450 [==============================] - 692s 2s/step - loss: 0.4040 - accuracy: 0.8141 - val_loss: 0.3581 - val_accuracy: 0.8421\n"
          ]
        }
      ],
      "source": [
        "# Get the untrained model\n",
        "model = create_model()\n",
        "\n",
        "# Train the model\n",
        "# Note that this may take some time.\n",
        "history = model.fit(train_generator,\n",
        "                    epochs= NUMBER_EPOCHS, \n",
        "                    verbose=1,\n",
        "                    validation_data=validation_generator)"
      ],
      "id": "5qE1G6JB4fMn"
    },
    {
      "cell_type": "code",
      "execution_count": 79,
      "metadata": {
        "id": "95GzO6UoNjwH",
        "colab": {
          "base_uri": "https://localhost:8080/",
          "height": 295
        },
        "outputId": "ad63a850-e959-457b-e65d-403c50a50dc6"
      },
      "outputs": [
        {
          "output_type": "display_data",
          "data": {
            "text/plain": [
              "<Figure size 432x288 with 1 Axes>"
            ],
            "image/png": "[encoded data removed]"
          },
          "metadata": {
            "needs_background": "light"
          }
        },
        {
          "output_type": "display_data",
          "data": {
            "text/plain": [
              "<IPython.core.display.Javascript object>"
            ],
            "application/javascript": [
              "\n",
              "    async function download(id, filename, size) {\n",
              "      if (!google.colab.kernel.accessAllowed) {\n",
              "        return;\n",
              "      }\n",
              "      const div = document.createElement('div');\n",
              "      const label = document.createElement('label');\n",
              "      label.textContent = `Downloading \"${filename}\": `;\n",
              "      div.appendChild(label);\n",
              "      const progress = document.createElement('progress');\n",
              "      progress.max = size;\n",
              "      div.appendChild(progress);\n",
              "      document.body.appendChild(div);\n",
              "\n",
              "      const buffers = [];\n",
              "      let downloaded = 0;\n",
              "\n",
              "      const channel = await google.colab.kernel.comms.open(id);\n",
              "      // Send a message to notify the kernel that we're ready.\n",
              "      channel.send({})\n",
              "\n",
              "      for await (const message of channel.messages) {\n",
              "        // Send a message to notify the kernel that we're ready.\n",
              "        channel.send({})\n",
              "        if (message.buffers) {\n",
              "          for (const buffer of message.buffers) {\n",
              "            buffers.push(buffer);\n",
              "            downloaded += buffer.byteLength;\n",
              "            progress.value = downloaded;\n",
              "          }\n",
              "        }\n",
              "      }\n",
              "      const blob = new Blob(buffers, {type: 'application/binary'});\n",
              "      const a = document.createElement('a');\n",
              "      a.href = window.URL.createObjectURL(blob);\n",
              "      a.download = filename;\n",
              "      div.appendChild(a);\n",
              "      a.click();\n",
              "      div.remove();\n",
              "    }\n",
              "  "
            ]
          },
          "metadata": {}
        },
        {
          "output_type": "display_data",
          "data": {
            "text/plain": [
              "<IPython.core.display.Javascript object>"
            ],
            "application/javascript": [
              "download(\"download_c52cd042-06b0-4f62-9ad7-ce9bd861f914\", \"DOWN_accuracy.png\", 15164)"
            ]
          },
          "metadata": {}
        }
      ],
      "source": [
        "#------------------------------------------------\n",
        "# Plot training and validation accuracy per epoch\n",
        "#------------------------------------------------\n",
        "from google.colab import files\n",
        "\n",
        "from matplotlib import pyplot as plt\n",
        "\n",
        "\n",
        "plt.plot(history.history['accuracy'])\n",
        "plt.plot(history.history['val_accuracy'])\n",
        "plt.title('model accuracy')\n",
        "plt.ylabel('accuracy')\n",
        "plt.xlabel('epoch')\n",
        "plt.legend(['train', 'val'], loc='upper left')\n",
        "plt.savefig(\"DOWN_accuracy.png\")\n",
        "plt.show()\n",
        "\n",
        "files.download(\"DOWN_accuracy.png\") "
      ],
      "id": "95GzO6UoNjwH"
    },
    {
      "cell_type": "code",
      "execution_count": 80,
      "metadata": {
        "id": "hdFyQV-mePq0",
        "colab": {
          "base_uri": "https://localhost:8080/",
          "height": 295
        },
        "outputId": "46ea8c98-3e8a-4ab8-b818-a7224fb0a310"
      },
      "outputs": [
        {
          "output_type": "display_data",
          "data": {
            "text/plain": [
              "<Figure size 432x288 with 1 Axes>"
            ],
            "image/png": "[encoded data removed]"
          },
          "metadata": {
            "needs_background": "light"
          }
        },
        {
          "output_type": "display_data",
          "data": {
            "text/plain": [
              "<IPython.core.display.Javascript object>"
            ],
            "application/javascript": [
              "\n",
              "    async function download(id, filename, size) {\n",
              "      if (!google.colab.kernel.accessAllowed) {\n",
              "        return;\n",
              "      }\n",
              "      const div = document.createElement('div');\n",
              "      const label = document.createElement('label');\n",
              "      label.textContent = `Downloading \"${filename}\": `;\n",
              "      div.appendChild(label);\n",
              "      const progress = document.createElement('progress');\n",
              "      progress.max = size;\n",
              "      div.appendChild(progress);\n",
              "      document.body.appendChild(div);\n",
              "\n",
              "      const buffers = [];\n",
              "      let downloaded = 0;\n",
              "\n",
              "      const channel = await google.colab.kernel.comms.open(id);\n",
              "      // Send a message to notify the kernel that we're ready.\n",
              "      channel.send({})\n",
              "\n",
              "      for await (const message of channel.messages) {\n",
              "        // Send a message to notify the kernel that we're ready.\n",
              "        channel.send({})\n",
              "        if (message.buffers) {\n",
              "          for (const buffer of message.buffers) {\n",
              "            buffers.push(buffer);\n",
              "            downloaded += buffer.byteLength;\n",
              "            progress.value = downloaded;\n",
              "          }\n",
              "        }\n",
              "      }\n",
              "      const blob = new Blob(buffers, {type: 'application/binary'});\n",
              "      const a = document.createElement('a');\n",
              "      a.href = window.URL.createObjectURL(blob);\n",
              "      a.download = filename;\n",
              "      div.appendChild(a);\n",
              "      a.click();\n",
              "      div.remove();\n",
              "    }\n",
              "  "
            ]
          },
          "metadata": {}
        },
        {
          "output_type": "display_data",
          "data": {
            "text/plain": [
              "<IPython.core.display.Javascript object>"
            ],
            "application/javascript": [
              "download(\"download_ec42d16d-a148-438f-89b7-a53f75e3f87d\", \"down_loss.png\", 15318)"
            ]
          },
          "metadata": {}
        }
      ],
      "source": [
        "from matplotlib import pyplot as plt\n",
        "\n",
        "plt.plot(history.history['loss'])\n",
        "plt.plot(history.history['val_loss'])\n",
        "plt.title('model loss')\n",
        "plt.ylabel('loss')\n",
        "plt.xlabel('epoch')\n",
        "plt.legend(['train', 'val'], loc='upper left')\n",
        "plt.savefig(\"down_loss.png\")\n",
        "\n",
        "plt.show()\n",
        "files.download(\"down_loss.png\") "
      ],
      "id": "hdFyQV-mePq0"
    },
    {
      "cell_type": "markdown",
      "metadata": {
        "id": "NYIaqsN2pav6"
      },
      "source": [
        "You will probably encounter that the model is overfitting, which means that it is doing a great job at classifying the images in the training set but struggles with new data. This is perfectly fine and you will learn how to mitigate this issue in the upcoming week.\n",
        "\n",
        "Before downloading this notebook and closing the assignment, be sure to also download the `history.pkl` file which contains the information of the training history of your model. You can download this file by running the cell below:"
      ],
      "id": "NYIaqsN2pav6"
    },
    {
      "cell_type": "code",
      "execution_count": 84,
      "metadata": {
        "id": "yWcrc9nZTsHj",
        "colab": {
          "base_uri": "https://localhost:8080/",
          "height": 1000
        },
        "outputId": "728877a0-1aa8-45f4-c34b-a711c887ead9"
      },
      "outputs": [
        {
          "output_type": "stream",
          "name": "stdout",
          "text": [
            "Keras weights file (<HDF5 file \"variables.h5\" (mode r+)>) saving:\n",
            "...layers\n",
            "......conv2d\n",
            ".........vars\n",
            "............0\n",
            "............1\n",
            "......conv2d_1\n",
            ".........vars\n",
            "............0\n",
            "............1\n",
            "......conv2d_2\n",
            ".........vars\n",
            "............0\n",
            "............1\n",
            "......conv2d_3\n",
            ".........vars\n",
            "............0\n",
            "............1\n",
            "......dense\n",
            ".........vars\n",
            "............0\n",
            "............1\n",
            "......dense_1\n",
            ".........vars\n",
            "............0\n",
            "............1\n",
            "......dense_2\n",
            ".........vars\n",
            "............0\n",
            "............1\n",
            "......flatten\n",
            ".........vars\n",
            "......max_pooling2d\n",
            ".........vars\n",
            "......max_pooling2d_1\n",
            ".........vars\n",
            "......max_pooling2d_2\n",
            ".........vars\n",
            "......max_pooling2d_3\n",
            ".........vars\n",
            "...metrics\n",
            "......mean\n",
            ".........vars\n",
            "............0\n",
            "............1\n",
            "......mean_metric_wrapper\n",
            ".........vars\n",
            "............0\n",
            "............1\n",
            "...optimizer\n",
            "......vars\n",
            ".........0\n",
            ".........1\n",
            ".........10\n",
            ".........11\n",
            ".........12\n",
            ".........13\n",
            ".........14\n",
            ".........2\n",
            ".........3\n",
            ".........4\n",
            ".........5\n",
            ".........6\n",
            ".........7\n",
            ".........8\n",
            ".........9\n",
            "...vars\n",
            "Keras model archive saving:\n",
            "File Name                                             Modified             Size\n",
            "config.json                                    2023-03-13 11:07:59         5483\n",
            "variables.h5                                   2023-03-13 11:07:59     27044632\n",
            "metadata.json                                  2023-03-13 11:07:59           64\n"
          ]
        },
        {
          "output_type": "display_data",
          "data": {
            "text/plain": [
              "<IPython.core.display.Javascript object>"
            ],
            "application/javascript": [
              "\n",
              "    async function download(id, filename, size) {\n",
              "      if (!google.colab.kernel.accessAllowed) {\n",
              "        return;\n",
              "      }\n",
              "      const div = document.createElement('div');\n",
              "      const label = document.createElement('label');\n",
              "      label.textContent = `Downloading \"${filename}\": `;\n",
              "      div.appendChild(label);\n",
              "      const progress = document.createElement('progress');\n",
              "      progress.max = size;\n",
              "      div.appendChild(progress);\n",
              "      document.body.appendChild(div);\n",
              "\n",
              "      const buffers = [];\n",
              "      let downloaded = 0;\n",
              "\n",
              "      const channel = await google.colab.kernel.comms.open(id);\n",
              "      // Send a message to notify the kernel that we're ready.\n",
              "      channel.send({})\n",
              "\n",
              "      for await (const message of channel.messages) {\n",
              "        // Send a message to notify the kernel that we're ready.\n",
              "        channel.send({})\n",
              "        if (message.buffers) {\n",
              "          for (const buffer of message.buffers) {\n",
              "            buffers.push(buffer);\n",
              "            downloaded += buffer.byteLength;\n",
              "            progress.value = downloaded;\n",
              "          }\n",
              "        }\n",
              "      }\n",
              "      const blob = new Blob(buffers, {type: 'application/binary'});\n",
              "      const a = document.createElement('a');\n",
              "      a.href = window.URL.createObjectURL(blob);\n",
              "      a.download = filename;\n",
              "      div.appendChild(a);\n",
              "      a.click();\n",
              "      div.remove();\n",
              "    }\n",
              "  "
            ]
          },
          "metadata": {}
        },
        {
          "output_type": "display_data",
          "data": {
            "text/plain": [
              "<IPython.core.display.Javascript object>"
            ],
            "application/javascript": [
              "download(\"download_9a56ffbe-9e4f-42a1-86be-d599eeda7740\", \"model.pkl\", 27050596)"
            ]
          },
          "metadata": {}
        }
      ],
      "source": [
        "def download_history():\n",
        "  import pickle\n",
        "  from google.colab import files\n",
        "\n",
        "  with open('model.pkl', 'wb') as f:\n",
        "    pickle.dump(model, f)\n",
        "\n",
        "  files.download('model.pkl')\n",
        "\n",
        "download_history()"
      ],
      "id": "yWcrc9nZTsHj"
    },
    {
      "cell_type": "code",
      "source": [
        "## Delete the folder, so other analysis can be done: \n",
        "shutil.rmtree(\"/tmp/PetImages_modified\")\n"
      ],
      "metadata": {
        "id": "8EKgSiOVyEhu"
      },
      "id": "8EKgSiOVyEhu",
      "execution_count": 82,
      "outputs": []
    },
    {
      "cell_type": "code",
      "source": [
        "## Delete the folder, so other analysis can be done: \n",
        "shutil.rmtree( \"/tmp/cats-v-dogs\")"
      ],
      "metadata": {
        "id": "CQxg0tPiOKuz"
      },
      "id": "CQxg0tPiOKuz",
      "execution_count": 83,
      "outputs": []
    },
    {
      "cell_type": "markdown",
      "source": [],
      "metadata": {
        "id": "Uxsb3tx_OKcj"
      },
      "id": "Uxsb3tx_OKcj"
    }
  ],
  "metadata": {
    "accelerator": "TPU",
    "colab": {
      "provenance": [],
      "include_colab_link": true
    },
    "gpuClass": "standard",
    "kernelspec": {
      "display_name": "Python 3",
      "language": "python",
      "name": "python3"
    },
    "language_info": {
      "codemirror_mode": {
        "name": "ipython",
        "version": 3
      },
      "file_extension": ".py",
      "mimetype": "text/x-python",
      "name": "python",
      "nbconvert_exporter": "python",
      "pygments_lexer": "ipython3",
      "version": "3.7.4"
    }
  },
  "nbformat": 4,
  "nbformat_minor": 5
}