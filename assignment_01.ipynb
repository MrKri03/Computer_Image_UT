{
 "cells": [
  {
   "cell_type": "code",
   "execution_count": 1,
   "id": "5bdb9565-09a6-449f-860b-d7f68aa64df7",
   "metadata": {
    "tags": []
   },
   "outputs": [],
   "source": [
    "import PIL \n",
    "import numpy as np\n",
    "import os\n",
    "import glob"
   ]
  },
  {
   "cell_type": "code",
   "execution_count": 2,
   "id": "2513cc78-763b-4b4a-ad33-e76af6085b56",
   "metadata": {
    "tags": []
   },
   "outputs": [],
   "source": [
    "from PIL import Image"
   ]
  },
  {
   "cell_type": "markdown",
   "id": "b4d07346-eb2e-4ad9-8495-7abd8fe72615",
   "metadata": {},
   "source": [
    "## Main folder"
   ]
  },
  {
   "cell_type": "code",
   "execution_count": 31,
   "id": "359f9f71-cd95-406f-99ab-1236ddf93370",
   "metadata": {
    "tags": []
   },
   "outputs": [],
   "source": [
    "assgn = os.path.join(os.getcwd(),\"Assignment_01\")"
   ]
  },
  {
   "cell_type": "code",
   "execution_count": 32,
   "id": "defc9e18-fa4b-4477-97cd-46ec1e4b4ba3",
   "metadata": {
    "tags": []
   },
   "outputs": [],
   "source": [
    "photo_folder = \"photos\""
   ]
  },
  {
   "cell_type": "markdown",
   "id": "fdc9b39b-4b7c-46d2-88de-e5b71f80b329",
   "metadata": {},
   "source": [
    "Code read and used (not all of them)</br>\n",
    "https://stackoverflow.com/questions/42872293/channel-mix-with-pillow</br>\n",
    "https://stackoverflow.com/questions/30227466/combine-several-images-horizontally-with-python</br>\n",
    "https://stackoverflow.com/questions/53265729/how-to-combine-images-of-different-channel (with CV2)</br>\n",
    "https://stackoverflow.com/questions/13750447/pil-merge-of-two-images-with-alpha-channels-not-working-as-expected"
   ]
  },
  {
   "cell_type": "markdown",
   "id": "f0308f1c-9677-4af0-ab70-9e9063df59a9",
   "metadata": {},
   "source": [
    "## Exercise 1. Not code used."
   ]
  },
  {
   "cell_type": "markdown",
   "id": "bb4ea78e-bfd8-425d-a65b-f97bb20aff01",
   "metadata": {},
   "source": [
    "# Enhancing the brightness"
   ]
  },
  {
   "cell_type": "code",
   "execution_count": 69,
   "id": "902098ea-00af-45b1-aba7-3ba26ad1cbbf",
   "metadata": {
    "tags": []
   },
   "outputs": [],
   "source": [
    "from PIL import ImageEnhance\n",
    "\n",
    "\n",
    "with Image.open(iname) as image:\n",
    "    \n",
    "    enhancer = ImageEnhance.Brightness(image)\n",
    "\n",
    "    enhanced = enhancer.enhance(2)\n",
    "    \n",
    "    enhanced.save(os.path.join(assgn,photo_folder,'brigthness_enhanced.jpg'))\n",
    "    enhanced.show()\n",
    "    image.close()"
   ]
  },
  {
   "cell_type": "markdown",
   "id": "334564bc-fd9f-4b51-ae14-e81ea4afbc97",
   "metadata": {},
   "source": [
    "## Exercise 2\n"
   ]
  },
  {
   "cell_type": "markdown",
   "id": "df0ac7c5-33e2-4a9b-b4dd-a3584c035d1f",
   "metadata": {},
   "source": [
    "## Combining bands"
   ]
  },
  {
   "cell_type": "code",
   "execution_count": null,
   "id": "9eadac42-3e23-4b93-8c7c-4c0e84825533",
   "metadata": {},
   "outputs": [],
   "source": [
    "with Image.open(iname) as image:\n",
    "    r, g, b = image.split()\n",
    "    merged_img = Image.merge('RGB', (g, r, b)) # changed the band order accordingly\n",
    "    merged_img.save(os.path.join(assgn,photo_folder,'green_arrow.jpg')) # changed the output name accordingly\n",
    "    merged_img.show()"
   ]
  },
  {
   "cell_type": "code",
   "execution_count": null,
   "id": "571fbd81-9a1e-415e-929a-1b1c773007a9",
   "metadata": {},
   "outputs": [],
   "source": []
  },
  {
   "cell_type": "code",
   "execution_count": 33,
   "id": "bbe97b8b-0065-4421-8a38-5e9a72e4c851",
   "metadata": {
    "tags": []
   },
   "outputs": [],
   "source": [
    "images = glob.glob(os.path.join(assgn,photo_folder,\"*ej2*\"))\n"
   ]
  },
  {
   "cell_type": "code",
   "execution_count": 29,
   "id": "8abe1972-212c-4798-9151-e5ff3715e44f",
   "metadata": {
    "tags": []
   },
   "outputs": [
    {
     "name": "stdout",
     "output_type": "stream",
     "text": [
      "(3072, 4080)\n",
      "...\n",
      "(3072, 4080)\n",
      "...\n",
      "(3072, 4080)\n",
      "...\n"
     ]
    }
   ],
   "source": [
    "colours = [\"red\",\"green\",\"blue\"]\n",
    "string = \"_channel.jpg\"\n",
    "bands = []\n",
    "count_color = 0\n",
    "\n",
    "for img in images: \n",
    "    iname = Image.open(img)\n",
    "    print(iname.size)\n",
    "\n",
    "    \n",
    "    colour = iname.split()\n",
    "    \n",
    "\n",
    "    colour[count_color].show()\n",
    "    colour[count_color].save(os.path.join(assgn,photo_folder,colours[count_color]+string))\n",
    "    count_color = count_color +1\n",
    "    \n",
    "    print(\"...\")"
   ]
  },
  {
   "cell_type": "markdown",
   "id": "045b7f19-2732-4cf8-890f-4c0f0c0b67cb",
   "metadata": {},
   "source": [
    "Combine the different images"
   ]
  },
  {
   "cell_type": "code",
   "execution_count": 30,
   "id": "ee8021b1-0c7f-4cc1-afe8-0a14977e2b86",
   "metadata": {
    "tags": []
   },
   "outputs": [],
   "source": [
    "red = Image.open(os.path.join(assgn,photo_folder,\"red_channel.jpg\")).convert('L')\n",
    "green = Image.open(os.path.join(assgn,photo_folder,\"green_channel.jpg\")).convert('L')\n",
    "blue = Image.open(os.path.join(assgn,photo_folder,\"blue_channel.jpg\")).convert('L')\n",
    "\n",
    "out = Image.merge(\"RGB\", (red, green, blue))\n",
    "out.save(os.path.join(assgn,photo_folder,\"combined_arrow.jpg\"))"
   ]
  }
 ],
 "metadata": {
  "kernelspec": {
   "display_name": "Python 3 (ipykernel)",
   "language": "python",
   "name": "python3"
  },
  "language_info": {
   "codemirror_mode": {
    "name": "ipython",
    "version": 3
   },
   "file_extension": ".py",
   "mimetype": "text/x-python",
   "name": "python",
   "nbconvert_exporter": "python",
   "pygments_lexer": "ipython3",
   "version": "3.10.0"
  }
 },
 "nbformat": 4,
 "nbformat_minor": 5
}
